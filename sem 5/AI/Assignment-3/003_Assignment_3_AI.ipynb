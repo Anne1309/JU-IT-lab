{
  "nbformat": 4,
  "nbformat_minor": 0,
  "metadata": {
    "colab": {
      "provenance": []
    },
    "kernelspec": {
      "name": "python3",
      "display_name": "Python 3"
    },
    "language_info": {
      "name": "python"
    }
  },
  "cells": [
    {
      "cell_type": "markdown",
      "source": [
        "**Assignment 3**\n",
        "\n",
        "**Name: Anuska Nath**\n",
        "\n",
        "**IT (UG3), section:A3**\n",
        "\n",
        "**Roll: 002311001003**"
      ],
      "metadata": {
        "id": "o3m_efSW8CXU"
      }
    },
    {
      "cell_type": "markdown",
      "source": [
        "Write a Python program to solve the water-jug problem using breadth-first search.\n",
        "\n",
        "Inputs to the program should be the capacity of two jugs, and target measurement.\n",
        "\n",
        "Target measurement is the unit user wants to get as a solution.\n"
      ],
      "metadata": {
        "id": "BUGXaPik7sce"
      }
    },
    {
      "cell_type": "code",
      "execution_count": 9,
      "metadata": {
        "colab": {
          "base_uri": "https://localhost:8080/"
        },
        "id": "BGiDMey27n-9",
        "outputId": "d7f0c8cb-9065-4c0b-c8be-77fda1321702"
      },
      "outputs": [
        {
          "output_type": "stream",
          "name": "stdout",
          "text": [
            "Enter capacity of Jug 1: 4\n",
            "Enter capacity of Jug 2: 3\n",
            "Enter target measurement: 2\n",
            "\n",
            "Total solutions found: 2 (Target in Jug 1)\n",
            "\n",
            "Solution 1:\n",
            "  (0, 0)\n",
            "  (4, 0)\n",
            "  (1, 3)\n",
            "  (1, 0)\n",
            "  (0, 1)\n",
            "  (4, 1)\n",
            "  (2, 3)\n",
            "\n",
            "Solution 2:\n",
            "  (0, 0)\n",
            "  (0, 3)\n",
            "  (3, 0)\n",
            "  (3, 3)\n",
            "  (4, 2)\n",
            "  (0, 2)\n",
            "  (2, 0)\n",
            "\n",
            "All solutions have been saved to 'output.txt'\n"
          ]
        }
      ],
      "source": [
        "from collections import deque, defaultdict\n",
        "\n",
        "def bfs_all_solutions(capacity1, capacity2, target):\n",
        "    start = (0, 0)\n",
        "    queue = deque([start])\n",
        "    visited = set([start])\n",
        "    parents = defaultdict(list)\n",
        "    goal_states = []\n",
        "\n",
        "    found_level = None\n",
        "    level = {start: 0}\n",
        "\n",
        "    # Decide which jug should have the target\n",
        "    if capacity1 >= capacity2:\n",
        "        goal_jug = 1\n",
        "    else:\n",
        "        goal_jug = 2\n",
        "\n",
        "    while queue:\n",
        "        current = queue.popleft()\n",
        "        x, y = current\n",
        "\n",
        "        if found_level is not None and level[current] > found_level:\n",
        "            break\n",
        "\n",
        "        # Goal condition: target in larger jug\n",
        "        if (goal_jug == 1 and x == target) or (goal_jug == 2 and y == target):\n",
        "            goal_states.append(current)\n",
        "            found_level = level[current]\n",
        "            continue\n",
        "\n",
        "        possible_moves = [\n",
        "            (capacity1, y),              # Fill jug1\n",
        "            (x, capacity2),              # Fill jug2\n",
        "            (0, y),                      # Empty jug1\n",
        "            (x, 0),                      # Empty jug2\n",
        "            (x - min(x, capacity2 - y), y + min(x, capacity2 - y)),  # Pour jug1 → jug2\n",
        "            (x + min(y, capacity1 - x), y - min(y, capacity1 - x))   # Pour jug2 → jug1\n",
        "        ]\n",
        "\n",
        "        for state in possible_moves:\n",
        "            if 0 <= state[0] <= capacity1 and 0 <= state[1] <= capacity2:\n",
        "                if state not in visited:\n",
        "                    visited.add(state)\n",
        "                    queue.append(state)\n",
        "                    parents[state].append(current)\n",
        "                    level[state] = level[current] + 1\n",
        "                elif level[state] == level[current] + 1:\n",
        "                    parents[state].append(current)\n",
        "\n",
        "    # Backtrack all shortest paths\n",
        "    all_paths = []\n",
        "    for goal in goal_states:\n",
        "        stack = [(goal, [goal])]\n",
        "        while stack:\n",
        "            state, path = stack.pop()\n",
        "            if state == start:\n",
        "                all_paths.append(path[::-1])\n",
        "                continue\n",
        "            for p in parents[state]:\n",
        "                stack.append((p, path + [p]))\n",
        "\n",
        "    return all_paths, goal_jug\n",
        "\n",
        "\n",
        "if __name__ == \"__main__\":\n",
        "    capacity1 = int(input(\"Enter capacity of Jug 1: \"))\n",
        "    capacity2 = int(input(\"Enter capacity of Jug 2: \"))\n",
        "    target = int(input(\"Enter target measurement: \"))\n",
        "\n",
        "    if target > max(capacity1, capacity2):\n",
        "        print(\"Target cannot be greater than capacity of the larger jug.\")\n",
        "    else:\n",
        "        solutions, goal_jug = bfs_all_solutions(capacity1, capacity2, target)\n",
        "        if not solutions:\n",
        "            print(\"No solution possible.\")\n",
        "        else:\n",
        "            jug_name = \"Jug 1\" if goal_jug == 1 else \"Jug 2\"\n",
        "            output_file = \"output.txt\"\n",
        "\n",
        "            with open(output_file, \"w\") as f:\n",
        "                f.write(f\"Total solutions found: {len(solutions)} (Target in {jug_name})\\n\\n\")\n",
        "                for i, path in enumerate(solutions, 1):\n",
        "                    f.write(f\"Solution {i}:\\n\")\n",
        "                    for step in path:\n",
        "                        f.write(f\"  {step}\\n\")\n",
        "                    f.write(\"\\n\")\n",
        "\n",
        "            # Print to console as well\n",
        "            print(f\"\\nTotal solutions found: {len(solutions)} (Target in {jug_name})\\n\")\n",
        "            for i, path in enumerate(solutions, 1):\n",
        "                print(f\"Solution {i}:\")\n",
        "                for step in path:\n",
        "                    print(f\"  {step}\")\n",
        "                print()\n",
        "\n",
        "            print(f\"All solutions have been saved to '{output_file}'\")\n"
      ]
    }
  ]
}