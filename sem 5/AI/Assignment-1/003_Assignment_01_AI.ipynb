{
  "nbformat": 4,
  "nbformat_minor": 0,
  "metadata": {
    "colab": {
      "provenance": []
    },
    "kernelspec": {
      "name": "python3",
      "display_name": "Python 3"
    },
    "language_info": {
      "name": "python"
    }
  },
  "cells": [
    {
      "cell_type": "markdown",
      "source": [
        "**Assignment 1**\n",
        "\n",
        "\n",
        "**Name: Anuska Nath**\n",
        "\n",
        "**IT (UG3), section:A3**\n",
        "\n",
        "**Roll: 002311001003**"
      ],
      "metadata": {
        "id": "tR83ZhshMuEu"
      }
    },
    {
      "cell_type": "markdown",
      "source": [
        "\n",
        "\n",
        "---\n",
        "\n"
      ],
      "metadata": {
        "id": "_S_OWcckN-3Y"
      }
    },
    {
      "cell_type": "markdown",
      "source": [
        "**1. Understand the Python language, code library, package etc.**\n",
        "\n"
      ],
      "metadata": {
        "id": "9tWcAbixF2bj"
      }
    },
    {
      "cell_type": "markdown",
      "source": [
        "**1. NumPy**\n",
        "\n",
        "  **Overview:**\n",
        "\n",
        "NumPy is a library for efficient numerical computations, providing support for large, multi-dimensional arrays and matrices.\n",
        "Key Features:\n",
        "\n",
        "    ndarray: A fast, flexible, and efficient array object.\n",
        "\n",
        "    Broadcasting: Allows operations on arrays of different shapes.\n",
        "\n",
        "    Mathematical Functions: Includes operations like addition, square root, etc.\n",
        "  \n",
        "  **Example:**"
      ],
      "metadata": {
        "id": "zBgzJ7wDGl5z"
      }
    },
    {
      "cell_type": "code",
      "source": [
        "import numpy as np\n",
        "arr = np.array([1, 2, 3])\n",
        "print(np.sqrt(arr))  # Output: [1. 1.414 1.732]\n"
      ],
      "metadata": {
        "id": "3eIS4Tq1G8Qj"
      },
      "execution_count": null,
      "outputs": []
    },
    {
      "cell_type": "markdown",
      "source": [
        "**2. Pandas**\n",
        "\n",
        "**Overview:**\n",
        "\n",
        "Pandas is used for data manipulation and analysis, providing powerful data structures like DataFrame.\n",
        "Key Features:\n",
        "\n",
        "    DataFrame: A table-like data structure with rows and columns.\n",
        "\n",
        "    Data Handling: Tools for cleaning, transforming, and merging data.\n",
        "\n",
        "**Example:**"
      ],
      "metadata": {
        "id": "TqBCMVuQHDOs"
      }
    },
    {
      "cell_type": "code",
      "source": [
        "import pandas as pd\n",
        "data = {'Name': ['Alice', 'Bob'], 'Age': [24, 27]}\n",
        "df = pd.DataFrame(data)\n",
        "print(df['Age'].mean())  # Output: 25.5\n"
      ],
      "metadata": {
        "id": "RW7T4e5SHI_L"
      },
      "execution_count": null,
      "outputs": []
    },
    {
      "cell_type": "markdown",
      "source": [
        "**3. Matplotlib**\n",
        "\n",
        "**Overview:**\n",
        "\n",
        "Matplotlib is a plotting library for creating static, animated, and interactive visualizations.\n",
        "Key Features:\n",
        "\n",
        "    Plotting: Create line, bar, scatter, and more plots.\n",
        "\n",
        "    Customization: Extensive options for customizing plot appearance.\n",
        "\n",
        "**Example:**"
      ],
      "metadata": {
        "id": "hj2vgLuWHa6Q"
      }
    },
    {
      "cell_type": "code",
      "source": [
        "import matplotlib.pyplot as plt\n",
        "x = [0, 1, 2]\n",
        "y = [0, 1, 4]\n",
        "plt.plot(x, y)\n",
        "plt.show()\n"
      ],
      "metadata": {
        "id": "aImMpmEcHkQ0"
      },
      "execution_count": null,
      "outputs": []
    },
    {
      "cell_type": "markdown",
      "source": [
        "**Conclusion:**\n",
        "\n",
        "    NumPy: Efficient numerical computations.\n",
        "\n",
        "    Pandas: Powerful data manipulation and analysis.\n",
        "\n",
        "    Matplotlib: Easy-to-use plotting library for visualizing data.\n",
        "\n",
        "These libraries form the core of data analysis and scientific computing in Python."
      ],
      "metadata": {
        "id": "dZ3I4ShtHskg"
      }
    },
    {
      "cell_type": "markdown",
      "source": [],
      "metadata": {
        "id": "LejAEFzGH5rd"
      }
    },
    {
      "cell_type": "markdown",
      "source": [
        "\n",
        "\n",
        "---\n",
        "\n"
      ],
      "metadata": {
        "id": "_4oXTdQgH6XR"
      }
    },
    {
      "cell_type": "markdown",
      "source": [
        "**2. Write a BFS search function of a small graph without using recursion.**\n",
        "\n",
        "**3. Try to print the graph.**"
      ],
      "metadata": {
        "id": "QsDqWukWFmZz"
      }
    },
    {
      "cell_type": "markdown",
      "source": [
        "**Initializing Graph**"
      ],
      "metadata": {
        "id": "y5edw-t0EuQf"
      }
    },
    {
      "cell_type": "code",
      "source": [
        "# Step 1: Create a simple graph representation (Adjacency List)\n",
        "graph = {\n",
        "    'A': ['B', 'C'],\n",
        "    'B': ['A', 'D', 'E'],\n",
        "    'C': ['A', 'F'],\n",
        "    'D': ['B'],\n",
        "    'E': ['B', 'F'],\n",
        "    'F': ['C', 'E']\n",
        "}"
      ],
      "metadata": {
        "id": "2xHkQwTTEs-j"
      },
      "execution_count": null,
      "outputs": []
    },
    {
      "cell_type": "markdown",
      "source": [
        "**BFS Function**"
      ],
      "metadata": {
        "id": "FEUBmJbc7DVb"
      }
    },
    {
      "cell_type": "code",
      "source": [
        "# Step 2: Write the BFS function without recursion\n",
        "from collections import deque\n",
        "\n",
        "def bfs(graph, start):\n",
        "    visited = set()  # A set to keep track of visited nodes\n",
        "    queue = deque([start])  # Queue for BFS\n",
        "    visited.add(start)\n",
        "\n",
        "    while queue:\n",
        "        node = queue.popleft()  # Dequeue the next node\n",
        "        print(node, end=\" \")  # Print the current node\n",
        "\n",
        "        # Enqueue all unvisited neighbors\n",
        "        for neighbor in graph[node]:\n",
        "            if neighbor not in visited:\n",
        "                visited.add(neighbor)\n",
        "                queue.append(neighbor)\n",
        "\n"
      ],
      "metadata": {
        "id": "IhqFP7QW6CXZ"
      },
      "execution_count": null,
      "outputs": []
    },
    {
      "cell_type": "markdown",
      "source": [
        "**Function to print the graph**"
      ],
      "metadata": {
        "id": "HU8TvxdG3M94"
      }
    },
    {
      "cell_type": "code",
      "source": [
        "# Step 3: Printing the graph in a simple way\n",
        "def print_graph(graph):\n",
        "    for node in graph:\n",
        "        print(f\"{node}: {', '.join(graph[node])}\")\n",
        "\n"
      ],
      "metadata": {
        "id": "c-y1V3no2a7J"
      },
      "execution_count": null,
      "outputs": []
    },
    {
      "cell_type": "markdown",
      "source": [
        "**Calling the functions**"
      ],
      "metadata": {
        "id": "tF5ESWy67P_T"
      }
    },
    {
      "cell_type": "code",
      "source": [
        "# Run BFS starting from node 'A'\n",
        "print(\"BFS Traversal starting from 'A':\")\n",
        "bfs(graph, 'A')\n",
        "\n",
        "print(\"\\n\\nGraph Representation:\")\n",
        "print_graph(graph)\n"
      ],
      "metadata": {
        "id": "tWJV08lW6OEy"
      },
      "execution_count": null,
      "outputs": []
    }
  ]
}