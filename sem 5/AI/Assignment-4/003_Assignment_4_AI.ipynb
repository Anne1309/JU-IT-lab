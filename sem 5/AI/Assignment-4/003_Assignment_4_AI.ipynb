{
  "nbformat": 4,
  "nbformat_minor": 0,
  "metadata": {
    "colab": {
      "provenance": []
    },
    "kernelspec": {
      "name": "python3",
      "display_name": "Python 3"
    },
    "language_info": {
      "name": "python"
    }
  },
  "cells": [
    {
      "cell_type": "markdown",
      "source": [
        "**Assignment 4**\n",
        "\n",
        "**Name: Anuska Nath**\n",
        "\n",
        "**IT (UG3), section:A3**\n",
        "\n",
        "**Roll: 002311001003**"
      ],
      "metadata": {
        "id": "kZfuKMf2KmTj"
      }
    },
    {
      "cell_type": "markdown",
      "source": [
        "Look at the classical 8-puzzle problem and its solution from a particular given start state to a specific end state."
      ],
      "metadata": {
        "id": "t6sIJC51KuSb"
      }
    },
    {
      "cell_type": "markdown",
      "source": [
        "Write a Python program to solve the problem using Depth-first search in such a way that it can handle the 15-Puzzle problem with the same program.\n",
        "\n",
        "Provide necessary inputs to the program. Do not statically mention any of them inside the program.\n",
        "\n",
        "Input and output states shall be written in the same file and you can read them properly as required.\n",
        "\n",
        "Intermediate output shall be properly displayed and will be written in a separate output file.\n"
      ],
      "metadata": {
        "id": "druekkAqK1Is"
      }
    },
    {
      "cell_type": "code",
      "execution_count": 16,
      "metadata": {
        "colab": {
          "base_uri": "https://localhost:8080/"
        },
        "id": "3umrfQbi8jiP",
        "outputId": "5b0fb216-8416-4042-e685-a8bb62c91689"
      },
      "outputs": [
        {
          "output_type": "stream",
          "name": "stdout",
          "text": [
            "Start State:\n",
            "Step 0:\n",
            "1 2 3 4\n",
            "5 6 7 8\n",
            "9 10 _ 12\n",
            "13 14 11 15\n",
            "\n",
            "Step 1:\n",
            "1 2 3 4\n",
            "5 6 7 8\n",
            "9 10 11 12\n",
            "13 14 _ 15\n",
            "\n",
            "Step 2:\n",
            "1 2 3 4\n",
            "5 6 7 8\n",
            "9 10 11 12\n",
            "13 14 15 _\n",
            "\n",
            "Goal reached in 2 steps!\n",
            "\n"
          ]
        }
      ],
      "source": [
        "best_path = None  # global variable to store current best solution\n",
        "\n",
        "def read_state(filename):\n",
        "    \"\"\"Reads start and goal states from input.txt with 'start' and 'goal' markers.\"\"\"\n",
        "    with open(filename, \"r\") as f:\n",
        "        lines = [line.strip() for line in f if line.strip()]\n",
        "\n",
        "    start_idx = lines.index(\"start\") + 1\n",
        "    goal_idx = lines.index(\"goal\") + 1\n",
        "\n",
        "    start_lines = []\n",
        "    goal_lines = []\n",
        "\n",
        "    for i in range(start_idx, goal_idx - 1):\n",
        "        start_lines.append([int(x) for x in lines[i].split()])\n",
        "\n",
        "    for i in range(goal_idx, len(lines)):\n",
        "        goal_lines.append([int(x) for x in lines[i].split()])\n",
        "\n",
        "    start = tuple(tuple(row) for row in start_lines)\n",
        "    goal = tuple(tuple(row) for row in goal_lines)\n",
        "\n",
        "    return start, goal\n",
        "\n",
        "\n",
        "def print_state(state, step, file):\n",
        "    \"\"\"Print state to console and write to file.\"\"\"\n",
        "    line = f\"Step {step}:\\n\"\n",
        "    print(line, end=\"\")\n",
        "    file.write(line)\n",
        "    for row in state:\n",
        "        row_str = \" \".join(str(x) if x != 0 else \"_\" for x in row)\n",
        "        print(row_str)\n",
        "        file.write(row_str + \"\\n\")\n",
        "    print()\n",
        "    file.write(\"\\n\")\n",
        "\n",
        "\n",
        "def find_blank(state):\n",
        "    \"\"\"Find the position of the blank (0).\"\"\"\n",
        "    for i, row in enumerate(state):\n",
        "        for j, val in enumerate(row):\n",
        "            if val == 0:\n",
        "                return i, j\n",
        "    return None\n",
        "\n",
        "\n",
        "def swap(state, i1, j1, i2, j2):\n",
        "    \"\"\"Swap two positions in a puzzle state.\"\"\"\n",
        "    new_state = [list(row) for row in state]\n",
        "    new_state[i1][j1], new_state[i2][j2] = new_state[i2][j2], new_state[i1][j1]\n",
        "    return tuple(tuple(row) for row in new_state)\n",
        "\n",
        "\n",
        "def get_neighbors(state):\n",
        "    \"\"\"Generate all possible moves (neighbors).\"\"\"\n",
        "    n = len(state)\n",
        "    x, y = find_blank(state)\n",
        "    moves = []\n",
        "    for dx, dy in [(-1,0),(1,0),(0,-1),(0,1)]:\n",
        "        nx, ny = x+dx, y+dy\n",
        "        if 0 <= nx < n and 0 <= ny < n:\n",
        "            moves.append(swap(state, x, y, nx, ny))\n",
        "    return moves\n",
        "\n",
        "\n",
        "def dfs_shortest(state, goal, path, visited, max_depth=50):\n",
        "    global best_path\n",
        "\n",
        "    # Stop if already worse than current best\n",
        "    if best_path is not None and len(path) >= len(best_path):\n",
        "        return\n",
        "\n",
        "    if len(path) > max_depth:\n",
        "        return\n",
        "\n",
        "    if state == goal:\n",
        "        if best_path is None or len(path) < len(best_path):\n",
        "            best_path = path[:]\n",
        "        return\n",
        "\n",
        "    for neighbor in get_neighbors(state):\n",
        "        if neighbor not in visited:\n",
        "            visited.add(neighbor)\n",
        "            path.append(neighbor)\n",
        "            dfs_shortest(neighbor, goal, path, visited, max_depth)\n",
        "            path.pop()\n",
        "            visited.remove(neighbor)\n",
        "\n",
        "\n",
        "if __name__ == \"__main__\":\n",
        "    input_file = \"input.txt\"\n",
        "    output_file = \"output.txt\"\n",
        "\n",
        "    start, goal = read_state(input_file)\n",
        "\n",
        "    visited = {start}\n",
        "    path = [start]\n",
        "\n",
        "    dfs_shortest(start, goal, path, visited, max_depth=30)\n",
        "\n",
        "    with open(output_file, \"w\") as f:\n",
        "        print(\"Start State:\")\n",
        "        f.write(\"Start State:\\n\")\n",
        "        print_state(start, 0, f)\n",
        "\n",
        "        if best_path:\n",
        "            for step, state in enumerate(best_path[1:], start=1):\n",
        "                print_state(state, step, f)\n",
        "\n",
        "            total_steps = len(best_path) - 1\n",
        "            msg = f\"Goal reached in {total_steps} steps!\\n\"\n",
        "            print(msg)\n",
        "            f.write(msg)\n",
        "        else:\n",
        "            msg = \"No solution found within depth limit.\\n\"\n",
        "            print(msg)\n",
        "            f.write(msg)"
      ]
    }
  ]
}